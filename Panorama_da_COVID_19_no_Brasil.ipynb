{
  "nbformat": 4,
  "nbformat_minor": 0,
  "metadata": {
    "colab": {
      "name": "Panorama da COVID-19 no Brasil.ipynb",
      "provenance": [],
      "collapsed_sections": [],
      "include_colab_link": true
    },
    "kernelspec": {
      "name": "python3",
      "display_name": "Python 3"
    }
  },
  "cells": [
    {
      "cell_type": "markdown",
      "metadata": {
        "id": "view-in-github",
        "colab_type": "text"
      },
      "source": [
        "<a href=\"https://colab.research.google.com/github/brunnadeandrade/data_science/blob/master/Panorama_da_COVID_19_no_Brasil.ipynb\" target=\"_parent\"><img src=\"https://colab.research.google.com/assets/colab-badge.svg\" alt=\"Open In Colab\"/></a>"
      ]
    },
    {
      "cell_type": "markdown",
      "metadata": {
        "id": "-eFQZydM9O9J",
        "colab_type": "text"
      },
      "source": [
        "<img alt=\"Colaboratory logo\" width=\"15%\" src=\"https://raw.githubusercontent.com/carlosfab/escola-data-science/master/img/novo_logo_bg_claro.png\">\n",
        "\n",
        "#### **Data Science na Prática 2.0**\n",
        "*by [sigmoidal.ai](https://sigmoidal.ai)*  \n",
        "\n",
        "---\n",
        "  "
      ]
    },
    {
      "cell_type": "markdown",
      "metadata": {
        "id": "kLI0gJtzDGuQ",
        "colab_type": "text"
      },
      "source": [
        "# Panorama da COVID-19 no Brasil\n",
        "\n",
        "A COVID-19 é uma doença infecciosa causada pelo coronavírus da síndrome respiratória aguda grave 2 (SARS-CoV-2). O vírus foi identificado em seres humanos pela primeira vez em dezembro de 2019 e em março a Organização Mundial da Saúde declarou a pandemia do novo coronavírus.\n",
        "\n",
        "A doença é transmitida pelo ar ou por contato com secreções contaminadas como saliva, tosse , espirro, superfícies contaminadas e posterior contato com boca, olhos ou nariz.\n",
        "\n",
        "Por se tratar de uma doença nova, ainda não se sabe muito a respeito da COVID-19. Estudos são realizados em todo o mundo em busca de tratamentos efetivos contra a doença e estatísticas são atualizadas a todo instante sobre os danos causados pelo coronavírus.\n",
        "\n",
        "<p align=\"center\"><img src=\"https://image.freepik.com/free-photo/coronavirus-cells-floating_1048-12472.jpg\"\" ></p>\n",
        "\n",
        "O que se sabe até o presente momento, é que cerca de 80% dos casos confirmados são assintomáticos com recuperação rápida e sem sequelas, 15% dos infectados têm infecções graves e 5% evoluem para infecções muito graves.\n",
        "\n",
        "Lavar frequentemente as mãos, evitar tocar o rosto e o contato próximo com outras pessoas, cobrir a boca e o nariz ao tossir ou espirrar estão entre as medidas de prevenção da doença.\n",
        "\n",
        "Neste **notebook** irei analisar os dados públicos da doença com o objetivo de \n",
        "mostrar o panorama da COVID-19 no Brasil."
      ]
    },
    {
      "cell_type": "markdown",
      "metadata": {
        "id": "0zxQHhIUDF_2",
        "colab_type": "text"
      },
      "source": [
        "## Obtenção dos Dados\n",
        "\n",
        "Na tentativa de mapear o comportamento do vírus para combatê-lo da melhor maneira possível, diversas fontes de dados surgiram e muitas vezes esses dados são conflitantes.\n",
        "\n",
        "Para facilitar a análise, utilizarei a fonte de dados do site [Our World in Data](https://ourworldindata.org/coronavirus-data-explorer). O Our World in Data tem o objetivo de tornar acessível os dados sobre grandes problemas mundiais de forma interativa. \n",
        "\n",
        "O site atualiza diariamente os dados da pandemia da COVID-19 de diversos países. O *dataset* está atualizado até o dia 23 de junho de 2020 e será usado no formato [csv](https://covid.ourworldindata.org/data/owid-covid-data.csv) neste projeto.\n",
        "\n",
        "\n",
        "### Importando os dados da COVID-19\n",
        "\n",
        "Iniciaremos importanto as bibliotecas necessárias e em seguida os dados do `csv`  para a variável df."
      ]
    },
    {
      "cell_type": "code",
      "metadata": {
        "id": "lOtEJxe0DMEb",
        "colab_type": "code",
        "colab": {}
      },
      "source": [
        "# importar as bibliotecas necessárias\n",
        "import pandas as pd\n",
        "import matplotlib.pyplot as plt\n",
        "import seaborn as sns\n",
        "\n",
        "# importar o dataset COVID-19 para um DataaFrame\n",
        "df = pd.read_csv(\"https://covid.ourworldindata.org/data/owid-covid-data.csv\")"
      ],
      "execution_count": 94,
      "outputs": []
    },
    {
      "cell_type": "markdown",
      "metadata": {
        "id": "qb5By2nIMS6m",
        "colab_type": "text"
      },
      "source": [
        "## Análise Exploratória dos Dados\n",
        "\n",
        "Vamos iniciar a análise exploratória dos dados conhecendo nosso *dataset*. \n",
        "\n",
        "### Dicionário de Variáveis\n",
        "\n",
        "A descrição e a fonte de todas as variáveis estão disponíveis neste [link](https://github.com/owid/covid-19-data/blob/master/public/data/owid-covid-data-codebook.md). Farei um resumo para nos familiarizarmos com o *dataset*.\n",
        "\n",
        "`iso_code` - ISO 3166-1 alpha-3 – Código de três letras do país\n",
        "\n",
        "`continent` - Continente \n",
        "\n",
        "`location` - Localização geográfica\n",
        "\n",
        "`date` - Data da observação\n",
        "\n",
        "`total_cases` - Total de casos confirmados de COVID-19\n",
        "\n",
        "`new_cases` - Novos casos confirmados de COVID-19\n",
        "\n",
        "`total_deaths`- Total de mortes por COVID-19\n",
        "\n",
        "`new_deaths` - Novas mortes por COVID-19\n",
        "\n",
        "`total_cases_per_million` - Total de casos confirmados de COVID-19 por 1.000.000 de pessoas\n",
        "\n",
        "`new_cases_per_million` - Novos casos confirmados de COVID-19 por 1.000.000 de pessoas\n",
        "\n",
        "`total_deaths_per_million` - Total de mortes por COVID-19 por 1.000.000 de pessoas\n",
        "\n",
        "`new_deaths_per_million` - Novas mortes por COVID-19 por 1.000.000 de pessoas\n",
        "\n",
        "`total_tests` - Total de testes para COVID-19\n",
        "\n",
        "`new_tests` - Novos testes para COVID-19\n",
        "\n",
        "`new_tests_smoothed` - Novos testes para COVID-19 (7 dias). Para países que não relatam dados de teste diariamente, assume-se que o teste mudou igualmente diariamente em qualquer período em que nenhum dado foi relatado. \n",
        "\n",
        "`total_tests_per_thousand` - Total de testes para COVID-19 por 1.000 pessoas\n",
        "\n",
        "`new_tests_per_thousand` - Novos testes para COVID-19 por 1.000 pessoas\n",
        "\n",
        "`new_tests_smoothed_per_thousand` - Novos testes para COVID-19 (7 dias) por 1.000 pessoas\n",
        "\n",
        "`tests_units` - Unidades usadas pelo local para relatar seus dados de teste\n",
        "\n",
        "`stringency_index` - Índice de Estresse da Resposta do Governo: medida composta baseada em 9 indicadores de resposta, incluindo fechamento de escolas, fechamento de locais de trabalho e proibições de viagens, redimensionados para um valor de 0 a 100 (100 = resposta mais estrita)\n",
        "\n",
        "`population` - População em 2020\n",
        "\n",
        "`population_density` - Número de pessoas divididas por área terrestre, medida em quilômetros quadrados, no ano mais recente disponível\n",
        "\n",
        "`median_age` - Média de idade da população, projeção da ONU para 2020\n",
        "\n",
        "`aged_65_older` - Porcentagem da população com 65 anos ou mais, ano mais recente disponível\n",
        "\n",
        "`aged_70_older` - Porcentagem da população com 70 anos ou mais em 2015\n",
        "\n",
        "`gdp_per_capita` - Produto interno bruto com paridade do poder de compra (dólares internacionais constantes de 2011), último ano disponível\n",
        "\n",
        "`extreme_poverty` - Porcentagem da população que vive em extrema pobreza, último ano disponível desde 2010\n",
        "\n",
        "`cvd_death_rate` - Taxa de mortalidade por doenças cardiovasculares em 2017\n",
        "\n",
        "`diabetes_prevalence` - Prevalência de diabetes (% da população entre 20 e 79 anos) em 2017\n",
        "\n",
        "`female_smokers` - Porcentagem de mulheres que fumam, último ano disponível\n",
        "\n",
        "`male_smokers` - Porcentagem de homens que fumam, último ano disponível\n",
        "\n",
        "`handwashing_facilities` - Porcentagem da população com instalações básicas de lavagem das mãos, último ano disponível\n",
        "\n",
        "`hospital_beds_per_thousand` - Camas de hospital por 1.000 pessoas, último ano disponível desde 2010\n",
        "\n",
        "`life_expectancy` - Expectativa de vida no nascimento em 2019\n",
        "\n",
        "### Análise Exploratória Inicial\n",
        "\n",
        "Vamos ver como estão dispostas as variáveis no *dataset* visualizando as cinco primeiras entradas.\n"
      ]
    },
    {
      "cell_type": "code",
      "metadata": {
        "id": "oEciEYbk7EYo",
        "colab_type": "code",
        "colab": {
          "base_uri": "https://localhost:8080/",
          "height": 309
        },
        "outputId": "d0683427-3091-4760-d41f-98c55e3ca734"
      },
      "source": [
        "# visualizar as primeiras 5 entradas do dataset\n",
        "df.head()"
      ],
      "execution_count": 95,
      "outputs": [
        {
          "output_type": "execute_result",
          "data": {
            "text/html": [
              "<div>\n",
              "<style scoped>\n",
              "    .dataframe tbody tr th:only-of-type {\n",
              "        vertical-align: middle;\n",
              "    }\n",
              "\n",
              "    .dataframe tbody tr th {\n",
              "        vertical-align: top;\n",
              "    }\n",
              "\n",
              "    .dataframe thead th {\n",
              "        text-align: right;\n",
              "    }\n",
              "</style>\n",
              "<table border=\"1\" class=\"dataframe\">\n",
              "  <thead>\n",
              "    <tr style=\"text-align: right;\">\n",
              "      <th></th>\n",
              "      <th>iso_code</th>\n",
              "      <th>continent</th>\n",
              "      <th>location</th>\n",
              "      <th>date</th>\n",
              "      <th>total_cases</th>\n",
              "      <th>new_cases</th>\n",
              "      <th>total_deaths</th>\n",
              "      <th>new_deaths</th>\n",
              "      <th>total_cases_per_million</th>\n",
              "      <th>new_cases_per_million</th>\n",
              "      <th>total_deaths_per_million</th>\n",
              "      <th>new_deaths_per_million</th>\n",
              "      <th>total_tests</th>\n",
              "      <th>new_tests</th>\n",
              "      <th>total_tests_per_thousand</th>\n",
              "      <th>new_tests_per_thousand</th>\n",
              "      <th>new_tests_smoothed</th>\n",
              "      <th>new_tests_smoothed_per_thousand</th>\n",
              "      <th>tests_units</th>\n",
              "      <th>stringency_index</th>\n",
              "      <th>population</th>\n",
              "      <th>population_density</th>\n",
              "      <th>median_age</th>\n",
              "      <th>aged_65_older</th>\n",
              "      <th>aged_70_older</th>\n",
              "      <th>gdp_per_capita</th>\n",
              "      <th>extreme_poverty</th>\n",
              "      <th>cvd_death_rate</th>\n",
              "      <th>diabetes_prevalence</th>\n",
              "      <th>female_smokers</th>\n",
              "      <th>male_smokers</th>\n",
              "      <th>handwashing_facilities</th>\n",
              "      <th>hospital_beds_per_thousand</th>\n",
              "      <th>life_expectancy</th>\n",
              "    </tr>\n",
              "  </thead>\n",
              "  <tbody>\n",
              "    <tr>\n",
              "      <th>0</th>\n",
              "      <td>AFG</td>\n",
              "      <td>Asia</td>\n",
              "      <td>Afghanistan</td>\n",
              "      <td>2019-12-31</td>\n",
              "      <td>0.0</td>\n",
              "      <td>0.0</td>\n",
              "      <td>0.0</td>\n",
              "      <td>0.0</td>\n",
              "      <td>0.0</td>\n",
              "      <td>0.0</td>\n",
              "      <td>0.0</td>\n",
              "      <td>0.0</td>\n",
              "      <td>NaN</td>\n",
              "      <td>NaN</td>\n",
              "      <td>NaN</td>\n",
              "      <td>NaN</td>\n",
              "      <td>NaN</td>\n",
              "      <td>NaN</td>\n",
              "      <td>NaN</td>\n",
              "      <td>NaN</td>\n",
              "      <td>38928341.0</td>\n",
              "      <td>54.422</td>\n",
              "      <td>18.6</td>\n",
              "      <td>2.581</td>\n",
              "      <td>1.337</td>\n",
              "      <td>1803.987</td>\n",
              "      <td>NaN</td>\n",
              "      <td>597.029</td>\n",
              "      <td>9.59</td>\n",
              "      <td>NaN</td>\n",
              "      <td>NaN</td>\n",
              "      <td>37.746</td>\n",
              "      <td>0.5</td>\n",
              "      <td>64.83</td>\n",
              "    </tr>\n",
              "    <tr>\n",
              "      <th>1</th>\n",
              "      <td>AFG</td>\n",
              "      <td>Asia</td>\n",
              "      <td>Afghanistan</td>\n",
              "      <td>2020-01-01</td>\n",
              "      <td>0.0</td>\n",
              "      <td>0.0</td>\n",
              "      <td>0.0</td>\n",
              "      <td>0.0</td>\n",
              "      <td>0.0</td>\n",
              "      <td>0.0</td>\n",
              "      <td>0.0</td>\n",
              "      <td>0.0</td>\n",
              "      <td>NaN</td>\n",
              "      <td>NaN</td>\n",
              "      <td>NaN</td>\n",
              "      <td>NaN</td>\n",
              "      <td>NaN</td>\n",
              "      <td>NaN</td>\n",
              "      <td>NaN</td>\n",
              "      <td>0.0</td>\n",
              "      <td>38928341.0</td>\n",
              "      <td>54.422</td>\n",
              "      <td>18.6</td>\n",
              "      <td>2.581</td>\n",
              "      <td>1.337</td>\n",
              "      <td>1803.987</td>\n",
              "      <td>NaN</td>\n",
              "      <td>597.029</td>\n",
              "      <td>9.59</td>\n",
              "      <td>NaN</td>\n",
              "      <td>NaN</td>\n",
              "      <td>37.746</td>\n",
              "      <td>0.5</td>\n",
              "      <td>64.83</td>\n",
              "    </tr>\n",
              "    <tr>\n",
              "      <th>2</th>\n",
              "      <td>AFG</td>\n",
              "      <td>Asia</td>\n",
              "      <td>Afghanistan</td>\n",
              "      <td>2020-01-02</td>\n",
              "      <td>0.0</td>\n",
              "      <td>0.0</td>\n",
              "      <td>0.0</td>\n",
              "      <td>0.0</td>\n",
              "      <td>0.0</td>\n",
              "      <td>0.0</td>\n",
              "      <td>0.0</td>\n",
              "      <td>0.0</td>\n",
              "      <td>NaN</td>\n",
              "      <td>NaN</td>\n",
              "      <td>NaN</td>\n",
              "      <td>NaN</td>\n",
              "      <td>NaN</td>\n",
              "      <td>NaN</td>\n",
              "      <td>NaN</td>\n",
              "      <td>0.0</td>\n",
              "      <td>38928341.0</td>\n",
              "      <td>54.422</td>\n",
              "      <td>18.6</td>\n",
              "      <td>2.581</td>\n",
              "      <td>1.337</td>\n",
              "      <td>1803.987</td>\n",
              "      <td>NaN</td>\n",
              "      <td>597.029</td>\n",
              "      <td>9.59</td>\n",
              "      <td>NaN</td>\n",
              "      <td>NaN</td>\n",
              "      <td>37.746</td>\n",
              "      <td>0.5</td>\n",
              "      <td>64.83</td>\n",
              "    </tr>\n",
              "    <tr>\n",
              "      <th>3</th>\n",
              "      <td>AFG</td>\n",
              "      <td>Asia</td>\n",
              "      <td>Afghanistan</td>\n",
              "      <td>2020-01-03</td>\n",
              "      <td>0.0</td>\n",
              "      <td>0.0</td>\n",
              "      <td>0.0</td>\n",
              "      <td>0.0</td>\n",
              "      <td>0.0</td>\n",
              "      <td>0.0</td>\n",
              "      <td>0.0</td>\n",
              "      <td>0.0</td>\n",
              "      <td>NaN</td>\n",
              "      <td>NaN</td>\n",
              "      <td>NaN</td>\n",
              "      <td>NaN</td>\n",
              "      <td>NaN</td>\n",
              "      <td>NaN</td>\n",
              "      <td>NaN</td>\n",
              "      <td>0.0</td>\n",
              "      <td>38928341.0</td>\n",
              "      <td>54.422</td>\n",
              "      <td>18.6</td>\n",
              "      <td>2.581</td>\n",
              "      <td>1.337</td>\n",
              "      <td>1803.987</td>\n",
              "      <td>NaN</td>\n",
              "      <td>597.029</td>\n",
              "      <td>9.59</td>\n",
              "      <td>NaN</td>\n",
              "      <td>NaN</td>\n",
              "      <td>37.746</td>\n",
              "      <td>0.5</td>\n",
              "      <td>64.83</td>\n",
              "    </tr>\n",
              "    <tr>\n",
              "      <th>4</th>\n",
              "      <td>AFG</td>\n",
              "      <td>Asia</td>\n",
              "      <td>Afghanistan</td>\n",
              "      <td>2020-01-04</td>\n",
              "      <td>0.0</td>\n",
              "      <td>0.0</td>\n",
              "      <td>0.0</td>\n",
              "      <td>0.0</td>\n",
              "      <td>0.0</td>\n",
              "      <td>0.0</td>\n",
              "      <td>0.0</td>\n",
              "      <td>0.0</td>\n",
              "      <td>NaN</td>\n",
              "      <td>NaN</td>\n",
              "      <td>NaN</td>\n",
              "      <td>NaN</td>\n",
              "      <td>NaN</td>\n",
              "      <td>NaN</td>\n",
              "      <td>NaN</td>\n",
              "      <td>0.0</td>\n",
              "      <td>38928341.0</td>\n",
              "      <td>54.422</td>\n",
              "      <td>18.6</td>\n",
              "      <td>2.581</td>\n",
              "      <td>1.337</td>\n",
              "      <td>1803.987</td>\n",
              "      <td>NaN</td>\n",
              "      <td>597.029</td>\n",
              "      <td>9.59</td>\n",
              "      <td>NaN</td>\n",
              "      <td>NaN</td>\n",
              "      <td>37.746</td>\n",
              "      <td>0.5</td>\n",
              "      <td>64.83</td>\n",
              "    </tr>\n",
              "  </tbody>\n",
              "</table>\n",
              "</div>"
            ],
            "text/plain": [
              "  iso_code continent  ... hospital_beds_per_thousand life_expectancy\n",
              "0      AFG      Asia  ...                        0.5           64.83\n",
              "1      AFG      Asia  ...                        0.5           64.83\n",
              "2      AFG      Asia  ...                        0.5           64.83\n",
              "3      AFG      Asia  ...                        0.5           64.83\n",
              "4      AFG      Asia  ...                        0.5           64.83\n",
              "\n",
              "[5 rows x 34 columns]"
            ]
          },
          "metadata": {
            "tags": []
          },
          "execution_count": 95
        }
      ]
    },
    {
      "cell_type": "markdown",
      "metadata": {
        "id": "__TfiNtiPPA6",
        "colab_type": "text"
      },
      "source": [
        "#### Tamanho do *dataset*\n",
        "\n",
        "O *dataset* é composto por 26.134 entradas e 34 colunas.\n"
      ]
    },
    {
      "cell_type": "code",
      "metadata": {
        "id": "gO1fv3D1PS4k",
        "colab_type": "code",
        "colab": {
          "base_uri": "https://localhost:8080/",
          "height": 34
        },
        "outputId": "63ebd5f4-29ca-4c73-973c-7e43209f9ec4"
      },
      "source": [
        "# ver o tamanho do dataset\n",
        "df.shape"
      ],
      "execution_count": 96,
      "outputs": [
        {
          "output_type": "execute_result",
          "data": {
            "text/plain": [
              "(26134, 34)"
            ]
          },
          "metadata": {
            "tags": []
          },
          "execution_count": 96
        }
      ]
    },
    {
      "cell_type": "markdown",
      "metadata": {
        "id": "Ch1OUFAhCI6k",
        "colab_type": "text"
      },
      "source": [
        "#### Tipos de variáveis\n",
        "\n",
        "Vamos verificar os tipos de variáveis do nosso *dataset*."
      ]
    },
    {
      "cell_type": "code",
      "metadata": {
        "id": "9stGA0r5CMUt",
        "colab_type": "code",
        "colab": {
          "base_uri": "https://localhost:8080/",
          "height": 612
        },
        "outputId": "8878cc02-23b6-47b2-fa4e-a792df4f5c2c"
      },
      "source": [
        "# ver tipos de variáveis\n",
        "df.dtypes"
      ],
      "execution_count": 97,
      "outputs": [
        {
          "output_type": "execute_result",
          "data": {
            "text/plain": [
              "iso_code                            object\n",
              "continent                           object\n",
              "location                            object\n",
              "date                                object\n",
              "total_cases                        float64\n",
              "new_cases                          float64\n",
              "total_deaths                       float64\n",
              "new_deaths                         float64\n",
              "total_cases_per_million            float64\n",
              "new_cases_per_million              float64\n",
              "total_deaths_per_million           float64\n",
              "new_deaths_per_million             float64\n",
              "total_tests                        float64\n",
              "new_tests                          float64\n",
              "total_tests_per_thousand           float64\n",
              "new_tests_per_thousand             float64\n",
              "new_tests_smoothed                 float64\n",
              "new_tests_smoothed_per_thousand    float64\n",
              "tests_units                         object\n",
              "stringency_index                   float64\n",
              "population                         float64\n",
              "population_density                 float64\n",
              "median_age                         float64\n",
              "aged_65_older                      float64\n",
              "aged_70_older                      float64\n",
              "gdp_per_capita                     float64\n",
              "extreme_poverty                    float64\n",
              "cvd_death_rate                     float64\n",
              "diabetes_prevalence                float64\n",
              "female_smokers                     float64\n",
              "male_smokers                       float64\n",
              "handwashing_facilities             float64\n",
              "hospital_beds_per_thousand         float64\n",
              "life_expectancy                    float64\n",
              "dtype: object"
            ]
          },
          "metadata": {
            "tags": []
          },
          "execution_count": 97
        }
      ]
    },
    {
      "cell_type": "markdown",
      "metadata": {
        "id": "ToS65137YNbq",
        "colab_type": "text"
      },
      "source": [
        "#### Transformar a variável date para datetime\n",
        "\n",
        "Pelos tipos de variáveis verificados acima, vemos que a variável `date` é do tipo objeto. Vamos transformá-la para datetime."
      ]
    },
    {
      "cell_type": "code",
      "metadata": {
        "id": "-E54luBSYR-q",
        "colab_type": "code",
        "colab": {}
      },
      "source": [
        "# transformar a variável date para datetime\n",
        "df.date = pd.to_datetime(df.date)"
      ],
      "execution_count": 98,
      "outputs": []
    },
    {
      "cell_type": "markdown",
      "metadata": {
        "id": "9v9PfAj2Cjyy",
        "colab_type": "text"
      },
      "source": [
        "#### Identificando valores ausentes\n",
        "\n",
        "É muito importante saber se há valores ausentes no *dataset* pois isso influencia na qualidade da análise."
      ]
    },
    {
      "cell_type": "code",
      "metadata": {
        "id": "ChIQibGICm5N",
        "colab_type": "code",
        "colab": {
          "base_uri": "https://localhost:8080/",
          "height": 612
        },
        "outputId": "0f09e031-9af0-424b-a47b-8a60ad5cd1c9"
      },
      "source": [
        "# identificar valores ausentes\n",
        "(df.isnull().sum() / df.shape[0]).sort_values(ascending=False)"
      ],
      "execution_count": 99,
      "outputs": [
        {
          "output_type": "execute_result",
          "data": {
            "text/plain": [
              "new_tests                          0.745045\n",
              "new_tests_per_thousand             0.745045\n",
              "total_tests_per_thousand           0.719522\n",
              "total_tests                        0.719522\n",
              "new_tests_smoothed_per_thousand    0.697674\n",
              "new_tests_smoothed                 0.697674\n",
              "tests_units                        0.673797\n",
              "handwashing_facilities             0.593403\n",
              "extreme_poverty                    0.403038\n",
              "male_smokers                       0.282735\n",
              "female_smokers                     0.274394\n",
              "stringency_index                   0.200543\n",
              "hospital_beds_per_thousand         0.172610\n",
              "aged_65_older                      0.108824\n",
              "gdp_per_capita                     0.106222\n",
              "aged_70_older                      0.100712\n",
              "median_age                         0.096082\n",
              "cvd_death_rate                     0.095508\n",
              "diabetes_prevalence                0.065738\n",
              "population_density                 0.043315\n",
              "life_expectancy                    0.013852\n",
              "new_deaths_per_million             0.011250\n",
              "total_deaths_per_million           0.011250\n",
              "new_cases_per_million              0.011250\n",
              "total_cases_per_million            0.011250\n",
              "continent                          0.009260\n",
              "new_deaths                         0.008801\n",
              "total_deaths                       0.008801\n",
              "new_cases                          0.008801\n",
              "total_cases                        0.008801\n",
              "population                         0.002449\n",
              "iso_code                           0.002449\n",
              "date                               0.000000\n",
              "location                           0.000000\n",
              "dtype: float64"
            ]
          },
          "metadata": {
            "tags": []
          },
          "execution_count": 99
        }
      ]
    },
    {
      "cell_type": "markdown",
      "metadata": {
        "id": "o6yARyFCmMcQ",
        "colab_type": "text"
      },
      "source": [
        "Muitos dados do nosso *dataset* dependem dos relatórios reportados pelos governos como as variáveis que se referem aos testes. E são essas variáveis que têm maior porcentagem de valores ausentes. \n",
        "\n",
        "#### Países com mais casos e mortes\n",
        "\n",
        "Vamos ver quais os 5 países que registraram mais casos e óbitos até a data de 23 de junho de 2020."
      ]
    },
    {
      "cell_type": "code",
      "metadata": {
        "id": "OFpFlsFmrYfB",
        "colab_type": "code",
        "colab": {
          "base_uri": "https://localhost:8080/",
          "height": 204
        },
        "outputId": "a6090399-af10-4f30-b18c-ee073f924cc3"
      },
      "source": [
        "# visualizar 5 países com mais casos\n",
        "df.loc[df.date =='2020-06-23',['location', 'total_cases']].sort_values(by=\"total_cases\", ascending=False)[1:6]"
      ],
      "execution_count": 105,
      "outputs": [
        {
          "output_type": "execute_result",
          "data": {
            "text/html": [
              "<div>\n",
              "<style scoped>\n",
              "    .dataframe tbody tr th:only-of-type {\n",
              "        vertical-align: middle;\n",
              "    }\n",
              "\n",
              "    .dataframe tbody tr th {\n",
              "        vertical-align: top;\n",
              "    }\n",
              "\n",
              "    .dataframe thead th {\n",
              "        text-align: right;\n",
              "    }\n",
              "</style>\n",
              "<table border=\"1\" class=\"dataframe\">\n",
              "  <thead>\n",
              "    <tr style=\"text-align: right;\">\n",
              "      <th></th>\n",
              "      <th>location</th>\n",
              "      <th>total_cases</th>\n",
              "    </tr>\n",
              "  </thead>\n",
              "  <tbody>\n",
              "    <tr>\n",
              "      <th>24874</th>\n",
              "      <td>United States</td>\n",
              "      <td>2312302.0</td>\n",
              "    </tr>\n",
              "    <tr>\n",
              "      <th>3542</th>\n",
              "      <td>Brazil</td>\n",
              "      <td>1106470.0</td>\n",
              "    </tr>\n",
              "    <tr>\n",
              "      <th>19744</th>\n",
              "      <td>Russia</td>\n",
              "      <td>592280.0</td>\n",
              "    </tr>\n",
              "    <tr>\n",
              "      <th>11046</th>\n",
              "      <td>India</td>\n",
              "      <td>440215.0</td>\n",
              "    </tr>\n",
              "    <tr>\n",
              "      <th>24696</th>\n",
              "      <td>United Kingdom</td>\n",
              "      <td>305289.0</td>\n",
              "    </tr>\n",
              "  </tbody>\n",
              "</table>\n",
              "</div>"
            ],
            "text/plain": [
              "             location  total_cases\n",
              "24874   United States    2312302.0\n",
              "3542           Brazil    1106470.0\n",
              "19744          Russia     592280.0\n",
              "11046           India     440215.0\n",
              "24696  United Kingdom     305289.0"
            ]
          },
          "metadata": {
            "tags": []
          },
          "execution_count": 105
        }
      ]
    },
    {
      "cell_type": "markdown",
      "metadata": {
        "id": "g19W7ZXk4_tO",
        "colab_type": "text"
      },
      "source": [
        "Observando a tabela vemos que até a data do nosso *dataset*:\n",
        "* Os Estados Unidos registraram 2.312.302 casos\n",
        "* O Brasil registrou 1.106.470 casos\n",
        "* A Rússia registrou 592.280 casos\n",
        "* A Índia registrou 440.215 casos\n",
        "* O Reino Unido registrou 305.289 casos\n"
      ]
    },
    {
      "cell_type": "code",
      "metadata": {
        "id": "S1FRmKoLuRoa",
        "colab_type": "code",
        "colab": {
          "base_uri": "https://localhost:8080/",
          "height": 204
        },
        "outputId": "385e7d94-587d-445a-9fe3-c4756318f68f"
      },
      "source": [
        "# visualizar 5 países com mais óbitos\n",
        "df.loc[df.date =='2020-06-23', ['location','total_deaths','total_cases']].sort_values(by=\"total_deaths\", ascending=False)[1:6]"
      ],
      "execution_count": 101,
      "outputs": [
        {
          "output_type": "execute_result",
          "data": {
            "text/html": [
              "<div>\n",
              "<style scoped>\n",
              "    .dataframe tbody tr th:only-of-type {\n",
              "        vertical-align: middle;\n",
              "    }\n",
              "\n",
              "    .dataframe tbody tr th {\n",
              "        vertical-align: top;\n",
              "    }\n",
              "\n",
              "    .dataframe thead th {\n",
              "        text-align: right;\n",
              "    }\n",
              "</style>\n",
              "<table border=\"1\" class=\"dataframe\">\n",
              "  <thead>\n",
              "    <tr style=\"text-align: right;\">\n",
              "      <th></th>\n",
              "      <th>location</th>\n",
              "      <th>total_deaths</th>\n",
              "      <th>total_cases</th>\n",
              "    </tr>\n",
              "  </thead>\n",
              "  <tbody>\n",
              "    <tr>\n",
              "      <th>24874</th>\n",
              "      <td>United States</td>\n",
              "      <td>120402.0</td>\n",
              "      <td>2312302.0</td>\n",
              "    </tr>\n",
              "    <tr>\n",
              "      <th>3542</th>\n",
              "      <td>Brazil</td>\n",
              "      <td>51271.0</td>\n",
              "      <td>1106470.0</td>\n",
              "    </tr>\n",
              "    <tr>\n",
              "      <th>24696</th>\n",
              "      <td>United Kingdom</td>\n",
              "      <td>42647.0</td>\n",
              "      <td>305289.0</td>\n",
              "    </tr>\n",
              "    <tr>\n",
              "      <th>12201</th>\n",
              "      <td>Italy</td>\n",
              "      <td>34657.0</td>\n",
              "      <td>238720.0</td>\n",
              "    </tr>\n",
              "    <tr>\n",
              "      <th>8528</th>\n",
              "      <td>France</td>\n",
              "      <td>29663.0</td>\n",
              "      <td>160750.0</td>\n",
              "    </tr>\n",
              "  </tbody>\n",
              "</table>\n",
              "</div>"
            ],
            "text/plain": [
              "             location  total_deaths  total_cases\n",
              "24874   United States      120402.0    2312302.0\n",
              "3542           Brazil       51271.0    1106470.0\n",
              "24696  United Kingdom       42647.0     305289.0\n",
              "12201           Italy       34657.0     238720.0\n",
              "8528           France       29663.0     160750.0"
            ]
          },
          "metadata": {
            "tags": []
          },
          "execution_count": 101
        }
      ]
    },
    {
      "cell_type": "markdown",
      "metadata": {
        "id": "AodRxzawxJVv",
        "colab_type": "text"
      },
      "source": [
        "Em relação ao número de óbitos até a data do nosso *dataset*:\n",
        "* Os Estados Unidos registraram 120.402 óbitos\n",
        "* O Brasil registrou 51.271 óbitos\n",
        "* O Reino Unido registrou 42.647 óbitos\n",
        "* A Itália registrou 34.657 óbitos\n",
        "* A França registrou 29.663 óbitos\n",
        "\n",
        "Vamos plotar um gráfico de barras para visualizar melhor esses números."
      ]
    },
    {
      "cell_type": "code",
      "metadata": {
        "id": "-0Og5XaKxdY4",
        "colab_type": "code",
        "colab": {
          "base_uri": "https://localhost:8080/",
          "height": 441
        },
        "outputId": "66e88b2f-d8d5-4aa4-8a46-9f8b24d93328"
      },
      "source": [
        "# plotar gráficos de barras para os 5 países com mais casos e óbitos\n",
        "top5_total_cases = df.loc[df.date == '2020-06-23', ['location', 'total_cases']].sort_values(by=\"total_cases\", ascending=False)[1:6]\n",
        "top5_total_deaths = df.loc[df.date == '2020-06-23', ['location', 'total_deaths']].sort_values(by=\"total_deaths\", ascending=False)[1:6]\n",
        "\n",
        "fig, ax = plt.subplots(nrows=1, ncols=2, figsize=(10, 6))\n",
        "\n",
        "# plotar gráfico de barras para os 5 países com mais casos\n",
        "\n",
        "ax[0].bar('location', 'total_cases', data=top5_total_cases)\n",
        "ax[0].set_title(\"Total de casos\")\n",
        "\n",
        "# plotar gráfico de barras para os 5 países com mais óbitos\n",
        "\n",
        "ax[1].bar('location', 'total_deaths', data=top5_total_deaths)\n",
        "ax[1].set_title(\"Total de óbitos\")\n",
        "\n",
        "plt.tight_layout();"
      ],
      "execution_count": 102,
      "outputs": [
        {
          "output_type": "display_data",
          "data": {
            "image/png": "[encoded data removed]",
            "text/plain": [
              "<Figure size 720x432 with 2 Axes>"
            ]
          },
          "metadata": {
            "tags": [],
            "needs_background": "light"
          }
        }
      ]
    },
    {
      "cell_type": "markdown",
      "metadata": {
        "id": "QNBdnf48-PL2",
        "colab_type": "text"
      },
      "source": [
        "Pelo gráfico podemos ver que os casos e óbitos nos Estados Unidos é muito maior que nos demais países. \n",
        "\n",
        "O Brasil está em segundo lugar ultrapassando a barreira de 1 milhão de casos e 50 mil mortes.\n",
        "\n",
        "Agora veremos como está a evolução do total de casos e de óbitos no mundo por meio de um gráfico de linhas."
      ]
    },
    {
      "cell_type": "code",
      "metadata": {
        "id": "da-V92HUFzOV",
        "colab_type": "code",
        "colab": {
          "base_uri": "https://localhost:8080/",
          "height": 494
        },
        "outputId": "ec19d5f8-5164-48fe-ed00-9214999cb765"
      },
      "source": [
        "# plotar gráfico com total de casos e óbitos no mundo\n",
        "\n",
        "df.loc[df.location == \"World\", \"total_cases\"].reset_index(drop=True).plot(figsize=(15,8),legend=True);\n",
        "df.loc[df.location == \"World\", \"total_deaths\"].reset_index(drop=True).plot(figsize=(15,8),legend=True);"
      ],
      "execution_count": 106,
      "outputs": [
        {
          "output_type": "display_data",
          "data": {
            "image/png": "[encoded data removed]",
            "text/plain": [
              "<Figure size 1080x576 with 1 Axes>"
            ]
          },
          "metadata": {
            "tags": [],
            "needs_background": "light"
          }
        }
      ]
    },
    {
      "cell_type": "markdown",
      "metadata": {
        "id": "MwrAUzwmFKqn",
        "colab_type": "text"
      },
      "source": [
        "Vemos que após 75 dias os números de casos cresceram numa curva acentuada, já a linha que representa o número de óbitos cresce de forma mais branda."
      ]
    },
    {
      "cell_type": "markdown",
      "metadata": {
        "id": "SViA5VZ7DYLA",
        "colab_type": "text"
      },
      "source": [
        "### Análise Exploratória para o Brasil\n",
        "\n",
        "Agora vamos analisar apenas o Brasil e para isso vamos criar uma cópia do DataFrame e visualizar as primeiras entradas.\n"
      ]
    },
    {
      "cell_type": "code",
      "metadata": {
        "id": "UDQA502_hAwI",
        "colab_type": "code",
        "colab": {
          "base_uri": "https://localhost:8080/",
          "height": 340
        },
        "outputId": "2d9492de-aa65-4613-bc16-a04b94006bbb"
      },
      "source": [
        "# criar df para o Brasil e colocar data como índice\n",
        "df_brasil = df.loc[df.location ==\"Brazil\"].copy()\n",
        "df_brasil.date = pd.to_datetime(df_brasil.date)\n",
        "df_brasil.set_index('date', inplace=True)\n",
        "\n",
        "# visualizar df para o Brasil\n",
        "df_brasil.head()"
      ],
      "execution_count": 108,
      "outputs": [
        {
          "output_type": "execute_result",
          "data": {
            "text/html": [
              "<div>\n",
              "<style scoped>\n",
              "    .dataframe tbody tr th:only-of-type {\n",
              "        vertical-align: middle;\n",
              "    }\n",
              "\n",
              "    .dataframe tbody tr th {\n",
              "        vertical-align: top;\n",
              "    }\n",
              "\n",
              "    .dataframe thead th {\n",
              "        text-align: right;\n",
              "    }\n",
              "</style>\n",
              "<table border=\"1\" class=\"dataframe\">\n",
              "  <thead>\n",
              "    <tr style=\"text-align: right;\">\n",
              "      <th></th>\n",
              "      <th>iso_code</th>\n",
              "      <th>continent</th>\n",
              "      <th>location</th>\n",
              "      <th>total_cases</th>\n",
              "      <th>new_cases</th>\n",
              "      <th>total_deaths</th>\n",
              "      <th>new_deaths</th>\n",
              "      <th>total_cases_per_million</th>\n",
              "      <th>new_cases_per_million</th>\n",
              "      <th>total_deaths_per_million</th>\n",
              "      <th>new_deaths_per_million</th>\n",
              "      <th>total_tests</th>\n",
              "      <th>new_tests</th>\n",
              "      <th>total_tests_per_thousand</th>\n",
              "      <th>new_tests_per_thousand</th>\n",
              "      <th>new_tests_smoothed</th>\n",
              "      <th>new_tests_smoothed_per_thousand</th>\n",
              "      <th>tests_units</th>\n",
              "      <th>stringency_index</th>\n",
              "      <th>population</th>\n",
              "      <th>population_density</th>\n",
              "      <th>median_age</th>\n",
              "      <th>aged_65_older</th>\n",
              "      <th>aged_70_older</th>\n",
              "      <th>gdp_per_capita</th>\n",
              "      <th>extreme_poverty</th>\n",
              "      <th>cvd_death_rate</th>\n",
              "      <th>diabetes_prevalence</th>\n",
              "      <th>female_smokers</th>\n",
              "      <th>male_smokers</th>\n",
              "      <th>handwashing_facilities</th>\n",
              "      <th>hospital_beds_per_thousand</th>\n",
              "      <th>life_expectancy</th>\n",
              "    </tr>\n",
              "    <tr>\n",
              "      <th>date</th>\n",
              "      <th></th>\n",
              "      <th></th>\n",
              "      <th></th>\n",
              "      <th></th>\n",
              "      <th></th>\n",
              "      <th></th>\n",
              "      <th></th>\n",
              "      <th></th>\n",
              "      <th></th>\n",
              "      <th></th>\n",
              "      <th></th>\n",
              "      <th></th>\n",
              "      <th></th>\n",
              "      <th></th>\n",
              "      <th></th>\n",
              "      <th></th>\n",
              "      <th></th>\n",
              "      <th></th>\n",
              "      <th></th>\n",
              "      <th></th>\n",
              "      <th></th>\n",
              "      <th></th>\n",
              "      <th></th>\n",
              "      <th></th>\n",
              "      <th></th>\n",
              "      <th></th>\n",
              "      <th></th>\n",
              "      <th></th>\n",
              "      <th></th>\n",
              "      <th></th>\n",
              "      <th></th>\n",
              "      <th></th>\n",
              "      <th></th>\n",
              "    </tr>\n",
              "  </thead>\n",
              "  <tbody>\n",
              "    <tr>\n",
              "      <th>2019-12-31</th>\n",
              "      <td>BRA</td>\n",
              "      <td>South America</td>\n",
              "      <td>Brazil</td>\n",
              "      <td>0.0</td>\n",
              "      <td>0.0</td>\n",
              "      <td>0.0</td>\n",
              "      <td>0.0</td>\n",
              "      <td>0.0</td>\n",
              "      <td>0.0</td>\n",
              "      <td>0.0</td>\n",
              "      <td>0.0</td>\n",
              "      <td>NaN</td>\n",
              "      <td>NaN</td>\n",
              "      <td>NaN</td>\n",
              "      <td>NaN</td>\n",
              "      <td>NaN</td>\n",
              "      <td>NaN</td>\n",
              "      <td>NaN</td>\n",
              "      <td>NaN</td>\n",
              "      <td>212559409.0</td>\n",
              "      <td>25.04</td>\n",
              "      <td>33.5</td>\n",
              "      <td>8.552</td>\n",
              "      <td>5.06</td>\n",
              "      <td>14103.452</td>\n",
              "      <td>3.4</td>\n",
              "      <td>177.961</td>\n",
              "      <td>8.11</td>\n",
              "      <td>10.1</td>\n",
              "      <td>17.9</td>\n",
              "      <td>NaN</td>\n",
              "      <td>2.2</td>\n",
              "      <td>75.88</td>\n",
              "    </tr>\n",
              "    <tr>\n",
              "      <th>2020-01-01</th>\n",
              "      <td>BRA</td>\n",
              "      <td>South America</td>\n",
              "      <td>Brazil</td>\n",
              "      <td>0.0</td>\n",
              "      <td>0.0</td>\n",
              "      <td>0.0</td>\n",
              "      <td>0.0</td>\n",
              "      <td>0.0</td>\n",
              "      <td>0.0</td>\n",
              "      <td>0.0</td>\n",
              "      <td>0.0</td>\n",
              "      <td>NaN</td>\n",
              "      <td>NaN</td>\n",
              "      <td>NaN</td>\n",
              "      <td>NaN</td>\n",
              "      <td>NaN</td>\n",
              "      <td>NaN</td>\n",
              "      <td>NaN</td>\n",
              "      <td>0.0</td>\n",
              "      <td>212559409.0</td>\n",
              "      <td>25.04</td>\n",
              "      <td>33.5</td>\n",
              "      <td>8.552</td>\n",
              "      <td>5.06</td>\n",
              "      <td>14103.452</td>\n",
              "      <td>3.4</td>\n",
              "      <td>177.961</td>\n",
              "      <td>8.11</td>\n",
              "      <td>10.1</td>\n",
              "      <td>17.9</td>\n",
              "      <td>NaN</td>\n",
              "      <td>2.2</td>\n",
              "      <td>75.88</td>\n",
              "    </tr>\n",
              "    <tr>\n",
              "      <th>2020-01-02</th>\n",
              "      <td>BRA</td>\n",
              "      <td>South America</td>\n",
              "      <td>Brazil</td>\n",
              "      <td>0.0</td>\n",
              "      <td>0.0</td>\n",
              "      <td>0.0</td>\n",
              "      <td>0.0</td>\n",
              "      <td>0.0</td>\n",
              "      <td>0.0</td>\n",
              "      <td>0.0</td>\n",
              "      <td>0.0</td>\n",
              "      <td>NaN</td>\n",
              "      <td>NaN</td>\n",
              "      <td>NaN</td>\n",
              "      <td>NaN</td>\n",
              "      <td>NaN</td>\n",
              "      <td>NaN</td>\n",
              "      <td>NaN</td>\n",
              "      <td>0.0</td>\n",
              "      <td>212559409.0</td>\n",
              "      <td>25.04</td>\n",
              "      <td>33.5</td>\n",
              "      <td>8.552</td>\n",
              "      <td>5.06</td>\n",
              "      <td>14103.452</td>\n",
              "      <td>3.4</td>\n",
              "      <td>177.961</td>\n",
              "      <td>8.11</td>\n",
              "      <td>10.1</td>\n",
              "      <td>17.9</td>\n",
              "      <td>NaN</td>\n",
              "      <td>2.2</td>\n",
              "      <td>75.88</td>\n",
              "    </tr>\n",
              "    <tr>\n",
              "      <th>2020-01-03</th>\n",
              "      <td>BRA</td>\n",
              "      <td>South America</td>\n",
              "      <td>Brazil</td>\n",
              "      <td>0.0</td>\n",
              "      <td>0.0</td>\n",
              "      <td>0.0</td>\n",
              "      <td>0.0</td>\n",
              "      <td>0.0</td>\n",
              "      <td>0.0</td>\n",
              "      <td>0.0</td>\n",
              "      <td>0.0</td>\n",
              "      <td>NaN</td>\n",
              "      <td>NaN</td>\n",
              "      <td>NaN</td>\n",
              "      <td>NaN</td>\n",
              "      <td>NaN</td>\n",
              "      <td>NaN</td>\n",
              "      <td>NaN</td>\n",
              "      <td>0.0</td>\n",
              "      <td>212559409.0</td>\n",
              "      <td>25.04</td>\n",
              "      <td>33.5</td>\n",
              "      <td>8.552</td>\n",
              "      <td>5.06</td>\n",
              "      <td>14103.452</td>\n",
              "      <td>3.4</td>\n",
              "      <td>177.961</td>\n",
              "      <td>8.11</td>\n",
              "      <td>10.1</td>\n",
              "      <td>17.9</td>\n",
              "      <td>NaN</td>\n",
              "      <td>2.2</td>\n",
              "      <td>75.88</td>\n",
              "    </tr>\n",
              "    <tr>\n",
              "      <th>2020-01-04</th>\n",
              "      <td>BRA</td>\n",
              "      <td>South America</td>\n",
              "      <td>Brazil</td>\n",
              "      <td>0.0</td>\n",
              "      <td>0.0</td>\n",
              "      <td>0.0</td>\n",
              "      <td>0.0</td>\n",
              "      <td>0.0</td>\n",
              "      <td>0.0</td>\n",
              "      <td>0.0</td>\n",
              "      <td>0.0</td>\n",
              "      <td>NaN</td>\n",
              "      <td>NaN</td>\n",
              "      <td>NaN</td>\n",
              "      <td>NaN</td>\n",
              "      <td>NaN</td>\n",
              "      <td>NaN</td>\n",
              "      <td>NaN</td>\n",
              "      <td>0.0</td>\n",
              "      <td>212559409.0</td>\n",
              "      <td>25.04</td>\n",
              "      <td>33.5</td>\n",
              "      <td>8.552</td>\n",
              "      <td>5.06</td>\n",
              "      <td>14103.452</td>\n",
              "      <td>3.4</td>\n",
              "      <td>177.961</td>\n",
              "      <td>8.11</td>\n",
              "      <td>10.1</td>\n",
              "      <td>17.9</td>\n",
              "      <td>NaN</td>\n",
              "      <td>2.2</td>\n",
              "      <td>75.88</td>\n",
              "    </tr>\n",
              "  </tbody>\n",
              "</table>\n",
              "</div>"
            ],
            "text/plain": [
              "           iso_code      continent  ... hospital_beds_per_thousand  life_expectancy\n",
              "date                                ...                                            \n",
              "2019-12-31      BRA  South America  ...                        2.2            75.88\n",
              "2020-01-01      BRA  South America  ...                        2.2            75.88\n",
              "2020-01-02      BRA  South America  ...                        2.2            75.88\n",
              "2020-01-03      BRA  South America  ...                        2.2            75.88\n",
              "2020-01-04      BRA  South America  ...                        2.2            75.88\n",
              "\n",
              "[5 rows x 33 columns]"
            ]
          },
          "metadata": {
            "tags": []
          },
          "execution_count": 108
        }
      ]
    },
    {
      "cell_type": "markdown",
      "metadata": {
        "id": "UTT6Vvblu37e",
        "colab_type": "text"
      },
      "source": [
        "Vamos extrair do *dataset* quando foi registrado o primeiro caso por COVID-19 no Brasil."
      ]
    },
    {
      "cell_type": "code",
      "metadata": {
        "id": "vPgBwBTovRmz",
        "colab_type": "code",
        "colab": {
          "base_uri": "https://localhost:8080/",
          "height": 148
        },
        "outputId": "df99b0eb-1d7d-4d3f-84b9-a346d627ea3e"
      },
      "source": [
        "# ver registro do primeiro caso no Brasil\n",
        "df_brasil.loc[df_brasil['new_cases'] != 0.0].head(1) "
      ],
      "execution_count": 109,
      "outputs": [
        {
          "output_type": "execute_result",
          "data": {
            "text/html": [
              "<div>\n",
              "<style scoped>\n",
              "    .dataframe tbody tr th:only-of-type {\n",
              "        vertical-align: middle;\n",
              "    }\n",
              "\n",
              "    .dataframe tbody tr th {\n",
              "        vertical-align: top;\n",
              "    }\n",
              "\n",
              "    .dataframe thead th {\n",
              "        text-align: right;\n",
              "    }\n",
              "</style>\n",
              "<table border=\"1\" class=\"dataframe\">\n",
              "  <thead>\n",
              "    <tr style=\"text-align: right;\">\n",
              "      <th></th>\n",
              "      <th>iso_code</th>\n",
              "      <th>continent</th>\n",
              "      <th>location</th>\n",
              "      <th>total_cases</th>\n",
              "      <th>new_cases</th>\n",
              "      <th>total_deaths</th>\n",
              "      <th>new_deaths</th>\n",
              "      <th>total_cases_per_million</th>\n",
              "      <th>new_cases_per_million</th>\n",
              "      <th>total_deaths_per_million</th>\n",
              "      <th>new_deaths_per_million</th>\n",
              "      <th>total_tests</th>\n",
              "      <th>new_tests</th>\n",
              "      <th>total_tests_per_thousand</th>\n",
              "      <th>new_tests_per_thousand</th>\n",
              "      <th>new_tests_smoothed</th>\n",
              "      <th>new_tests_smoothed_per_thousand</th>\n",
              "      <th>tests_units</th>\n",
              "      <th>stringency_index</th>\n",
              "      <th>population</th>\n",
              "      <th>population_density</th>\n",
              "      <th>median_age</th>\n",
              "      <th>aged_65_older</th>\n",
              "      <th>aged_70_older</th>\n",
              "      <th>gdp_per_capita</th>\n",
              "      <th>extreme_poverty</th>\n",
              "      <th>cvd_death_rate</th>\n",
              "      <th>diabetes_prevalence</th>\n",
              "      <th>female_smokers</th>\n",
              "      <th>male_smokers</th>\n",
              "      <th>handwashing_facilities</th>\n",
              "      <th>hospital_beds_per_thousand</th>\n",
              "      <th>life_expectancy</th>\n",
              "    </tr>\n",
              "    <tr>\n",
              "      <th>date</th>\n",
              "      <th></th>\n",
              "      <th></th>\n",
              "      <th></th>\n",
              "      <th></th>\n",
              "      <th></th>\n",
              "      <th></th>\n",
              "      <th></th>\n",
              "      <th></th>\n",
              "      <th></th>\n",
              "      <th></th>\n",
              "      <th></th>\n",
              "      <th></th>\n",
              "      <th></th>\n",
              "      <th></th>\n",
              "      <th></th>\n",
              "      <th></th>\n",
              "      <th></th>\n",
              "      <th></th>\n",
              "      <th></th>\n",
              "      <th></th>\n",
              "      <th></th>\n",
              "      <th></th>\n",
              "      <th></th>\n",
              "      <th></th>\n",
              "      <th></th>\n",
              "      <th></th>\n",
              "      <th></th>\n",
              "      <th></th>\n",
              "      <th></th>\n",
              "      <th></th>\n",
              "      <th></th>\n",
              "      <th></th>\n",
              "      <th></th>\n",
              "    </tr>\n",
              "  </thead>\n",
              "  <tbody>\n",
              "    <tr>\n",
              "      <th>2020-02-26</th>\n",
              "      <td>BRA</td>\n",
              "      <td>South America</td>\n",
              "      <td>Brazil</td>\n",
              "      <td>1.0</td>\n",
              "      <td>1.0</td>\n",
              "      <td>0.0</td>\n",
              "      <td>0.0</td>\n",
              "      <td>0.005</td>\n",
              "      <td>0.005</td>\n",
              "      <td>0.0</td>\n",
              "      <td>0.0</td>\n",
              "      <td>NaN</td>\n",
              "      <td>NaN</td>\n",
              "      <td>NaN</td>\n",
              "      <td>NaN</td>\n",
              "      <td>NaN</td>\n",
              "      <td>NaN</td>\n",
              "      <td>NaN</td>\n",
              "      <td>5.56</td>\n",
              "      <td>212559409.0</td>\n",
              "      <td>25.04</td>\n",
              "      <td>33.5</td>\n",
              "      <td>8.552</td>\n",
              "      <td>5.06</td>\n",
              "      <td>14103.452</td>\n",
              "      <td>3.4</td>\n",
              "      <td>177.961</td>\n",
              "      <td>8.11</td>\n",
              "      <td>10.1</td>\n",
              "      <td>17.9</td>\n",
              "      <td>NaN</td>\n",
              "      <td>2.2</td>\n",
              "      <td>75.88</td>\n",
              "    </tr>\n",
              "  </tbody>\n",
              "</table>\n",
              "</div>"
            ],
            "text/plain": [
              "           iso_code      continent  ... hospital_beds_per_thousand  life_expectancy\n",
              "date                                ...                                            \n",
              "2020-02-26      BRA  South America  ...                        2.2            75.88\n",
              "\n",
              "[1 rows x 33 columns]"
            ]
          },
          "metadata": {
            "tags": []
          },
          "execution_count": 109
        }
      ]
    },
    {
      "cell_type": "markdown",
      "metadata": {
        "id": "I1xTTsX6xKh0",
        "colab_type": "text"
      },
      "source": [
        "O primeiro caso foi registrado no Brasil dia 26 de fevereiro de 2020.\n",
        "\n",
        "Vamos agora verificar quando foi registrada a primeira morte por COVID-19 no Brasil."
      ]
    },
    {
      "cell_type": "code",
      "metadata": {
        "id": "HbrnK53fxXyV",
        "colab_type": "code",
        "colab": {
          "base_uri": "https://localhost:8080/",
          "height": 148
        },
        "outputId": "d4d096aa-b947-41fc-de19-19e3ce25c973"
      },
      "source": [
        "# ver registro da primeira morte no Brasil\n",
        "df_brasil.loc[df_brasil['new_deaths'] != 0.0].head(1)"
      ],
      "execution_count": 110,
      "outputs": [
        {
          "output_type": "execute_result",
          "data": {
            "text/html": [
              "<div>\n",
              "<style scoped>\n",
              "    .dataframe tbody tr th:only-of-type {\n",
              "        vertical-align: middle;\n",
              "    }\n",
              "\n",
              "    .dataframe tbody tr th {\n",
              "        vertical-align: top;\n",
              "    }\n",
              "\n",
              "    .dataframe thead th {\n",
              "        text-align: right;\n",
              "    }\n",
              "</style>\n",
              "<table border=\"1\" class=\"dataframe\">\n",
              "  <thead>\n",
              "    <tr style=\"text-align: right;\">\n",
              "      <th></th>\n",
              "      <th>iso_code</th>\n",
              "      <th>continent</th>\n",
              "      <th>location</th>\n",
              "      <th>total_cases</th>\n",
              "      <th>new_cases</th>\n",
              "      <th>total_deaths</th>\n",
              "      <th>new_deaths</th>\n",
              "      <th>total_cases_per_million</th>\n",
              "      <th>new_cases_per_million</th>\n",
              "      <th>total_deaths_per_million</th>\n",
              "      <th>new_deaths_per_million</th>\n",
              "      <th>total_tests</th>\n",
              "      <th>new_tests</th>\n",
              "      <th>total_tests_per_thousand</th>\n",
              "      <th>new_tests_per_thousand</th>\n",
              "      <th>new_tests_smoothed</th>\n",
              "      <th>new_tests_smoothed_per_thousand</th>\n",
              "      <th>tests_units</th>\n",
              "      <th>stringency_index</th>\n",
              "      <th>population</th>\n",
              "      <th>population_density</th>\n",
              "      <th>median_age</th>\n",
              "      <th>aged_65_older</th>\n",
              "      <th>aged_70_older</th>\n",
              "      <th>gdp_per_capita</th>\n",
              "      <th>extreme_poverty</th>\n",
              "      <th>cvd_death_rate</th>\n",
              "      <th>diabetes_prevalence</th>\n",
              "      <th>female_smokers</th>\n",
              "      <th>male_smokers</th>\n",
              "      <th>handwashing_facilities</th>\n",
              "      <th>hospital_beds_per_thousand</th>\n",
              "      <th>life_expectancy</th>\n",
              "    </tr>\n",
              "    <tr>\n",
              "      <th>date</th>\n",
              "      <th></th>\n",
              "      <th></th>\n",
              "      <th></th>\n",
              "      <th></th>\n",
              "      <th></th>\n",
              "      <th></th>\n",
              "      <th></th>\n",
              "      <th></th>\n",
              "      <th></th>\n",
              "      <th></th>\n",
              "      <th></th>\n",
              "      <th></th>\n",
              "      <th></th>\n",
              "      <th></th>\n",
              "      <th></th>\n",
              "      <th></th>\n",
              "      <th></th>\n",
              "      <th></th>\n",
              "      <th></th>\n",
              "      <th></th>\n",
              "      <th></th>\n",
              "      <th></th>\n",
              "      <th></th>\n",
              "      <th></th>\n",
              "      <th></th>\n",
              "      <th></th>\n",
              "      <th></th>\n",
              "      <th></th>\n",
              "      <th></th>\n",
              "      <th></th>\n",
              "      <th></th>\n",
              "      <th></th>\n",
              "      <th></th>\n",
              "    </tr>\n",
              "  </thead>\n",
              "  <tbody>\n",
              "    <tr>\n",
              "      <th>2020-03-18</th>\n",
              "      <td>BRA</td>\n",
              "      <td>South America</td>\n",
              "      <td>Brazil</td>\n",
              "      <td>291.0</td>\n",
              "      <td>57.0</td>\n",
              "      <td>1.0</td>\n",
              "      <td>1.0</td>\n",
              "      <td>1.369</td>\n",
              "      <td>0.268</td>\n",
              "      <td>0.005</td>\n",
              "      <td>0.005</td>\n",
              "      <td>NaN</td>\n",
              "      <td>NaN</td>\n",
              "      <td>NaN</td>\n",
              "      <td>NaN</td>\n",
              "      <td>NaN</td>\n",
              "      <td>NaN</td>\n",
              "      <td>NaN</td>\n",
              "      <td>60.65</td>\n",
              "      <td>212559409.0</td>\n",
              "      <td>25.04</td>\n",
              "      <td>33.5</td>\n",
              "      <td>8.552</td>\n",
              "      <td>5.06</td>\n",
              "      <td>14103.452</td>\n",
              "      <td>3.4</td>\n",
              "      <td>177.961</td>\n",
              "      <td>8.11</td>\n",
              "      <td>10.1</td>\n",
              "      <td>17.9</td>\n",
              "      <td>NaN</td>\n",
              "      <td>2.2</td>\n",
              "      <td>75.88</td>\n",
              "    </tr>\n",
              "  </tbody>\n",
              "</table>\n",
              "</div>"
            ],
            "text/plain": [
              "           iso_code      continent  ... hospital_beds_per_thousand  life_expectancy\n",
              "date                                ...                                            \n",
              "2020-03-18      BRA  South America  ...                        2.2            75.88\n",
              "\n",
              "[1 rows x 33 columns]"
            ]
          },
          "metadata": {
            "tags": []
          },
          "execution_count": 110
        }
      ]
    },
    {
      "cell_type": "markdown",
      "metadata": {
        "id": "yojgkS7ZxhG4",
        "colab_type": "text"
      },
      "source": [
        "A primeira morte no Brasil foi registrada em 18 de março de 2020. Se passaram, portanto, 21 dias entre o primeiro registro de caso até o primeiro registro de óbito por COVID-19.\n",
        "\n",
        "Vamos agora plotar gráficos de linha em escalas linear e logarítmica para os casos e óbitos por COVID-19 registrados no Brasil."
      ]
    },
    {
      "cell_type": "code",
      "metadata": {
        "id": "QbjirfZYyWDb",
        "colab_type": "code",
        "colab": {
          "base_uri": "https://localhost:8080/",
          "height": 585
        },
        "outputId": "7b930530-2d53-4744-faf5-aed7791161dd"
      },
      "source": [
        "# plotar gráfico de linha em escala linear e logarítmica para casos e óbitos no Brasil\n",
        "\n",
        "fig, ax = plt.subplots(nrows=1, ncols=2, figsize=(15,8))\n",
        "ax[0].plot(\"total_deaths\", data=df_brasil)\n",
        "ax[0].plot(\"total_cases\", data=df_brasil)\n",
        "ax[0].set_title('COVID-19 no Brasil (Esacala linear)')\n",
        "ax[0].set_xlabel('Data')\n",
        "ax[0].set_ylabel('Números de casos e óbitos')\n",
        "ax[0].legend()\n",
        "\n",
        "ax[1].plot(\"total_deaths\", data=df_brasil)\n",
        "ax[1].plot(\"total_cases\", data=df_brasil)\n",
        "plt.yscale(\"log\")\n",
        "ax[1].set_title('COVID-19 no Brasil (Esacala logarítmica)')\n",
        "ax[1].set_xlabel('Data')\n",
        "ax[1].set_ylabel('Números de casos e óbitos')\n",
        "ax[1].legend()\n",
        "\n",
        "plt.tight_layout()"
      ],
      "execution_count": 79,
      "outputs": [
        {
          "output_type": "display_data",
          "data": {
            "image/png": "[encoded data removed]",
            "text/plain": [
              "<Figure size 1080x576 with 2 Axes>"
            ]
          },
          "metadata": {
            "tags": [],
            "needs_background": "light"
          }
        }
      ]
    },
    {
      "cell_type": "markdown",
      "metadata": {
        "id": "hmhTKSBZ96u0",
        "colab_type": "text"
      },
      "source": [
        "Através dos gráficos podemos perceber como o número de casos aumentam de forma acentuada no Brasil seguindo a tendência mundial. O número de mortes apesar de não ser tão acentuado, também é crescente. "
      ]
    },
    {
      "cell_type": "markdown",
      "metadata": {
        "id": "LCsiXvM3BcsO",
        "colab_type": "text"
      },
      "source": [
        "## Conclusão\n",
        "\n",
        "Os dados aqui apresentados é apenas um panorama sobre o avanço da COVID-19 no Brasil e no mundo. \n",
        "As conclusões que podemos fazer a partir da análise feita é que:\n",
        "\n",
        "* Os Estados Unidos possui o maior número de casos e óbitos por COVID-19.\n",
        "* O Brasil é o segundo da lista apresentando mais de 1 milhão de casos e 50 mil óbitos.\n",
        "* Os números de casos e mortes são crescentes.\n",
        "\n",
        "Este **notebook** apresenta uma fotografia do dia 23 de junho de 2020 e se tornará rapidamente desatualizado à medida que os dados forem atualizados."
      ]
    }
  ]
}
